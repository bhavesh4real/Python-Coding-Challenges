{
 "cells": [
  {
   "cell_type": "markdown",
   "id": "c4147ec4",
   "metadata": {},
   "source": [
    "![green-divider](https://user-images.githubusercontent.com/7065401/52071924-c003ad80-2562-11e9-8297-1c6595f8a7ff.png)\n",
    "### Problem 1:\n",
    "\n",
    "Fibonacci sequence is the integer sequence of 0, 1, 1, 2, 3, 5, 8....\n",
    "\n",
    "The first two terms are 0 and 1. All other terms are obtained by adding the preceding two terms. \n",
    "\n",
    "This means to say the **nth** term is the *sum of* **(n-1)th**  and **(n-2)th term**.\n",
    "\n",
    "\n",
    "## Solution:"
   ]
  },
  {
   "cell_type": "code",
   "execution_count": 25,
   "id": "95283d53",
   "metadata": {},
   "outputs": [
    {
     "name": "stdout",
     "output_type": "stream",
     "text": [
      "Enter number of terms:\n",
      "23\n",
      "\n",
      "Fibonacci Sequence of first 23 terms is:\n",
      "0 1 1 2 3 5 8 13 21 34 55 89 144 233 377 610 987 1597 2584 4181 6765 10946 17711 "
     ]
    }
   ],
   "source": [
    "def fibonacci_seq(n):\n",
    "    n1 = 0\n",
    "    n2 = 1\n",
    "    count = 0\n",
    "    \n",
    "    if n <= 0:\n",
    "        print('Enter postive numbers to get the right sequence.')\n",
    "    elif n == 1:\n",
    "        print(f'Fibonacci Sequence:\\n',n1)\n",
    "    else:\n",
    "        while count < n:\n",
    "            print(n1, end = ' ')\n",
    "            nth = n1 + n2\n",
    "            n1 = n2\n",
    "            n2 = nth\n",
    "            count += 1\n",
    "            \n",
    "            \n",
    "if __name__ == '__main__':\n",
    "    n_terms = int(input('Enter number of terms:\\n'))\n",
    "    print()\n",
    "    print(f'Fibonacci Sequence of first {n_terms} terms is:')\n",
    "    fibonacci_seq(n_terms)"
   ]
  },
  {
   "cell_type": "markdown",
   "id": "171ddef2",
   "metadata": {},
   "source": [
    "### Problem 2:\n",
    "\n",
    "Script a python code whose input is a string which contains a character and a phrase, and whose output indicates the number of times the character appears in the phrase. The output should include the input character and use the plural form, n's, if the number of times the characters appears is not exactly 1.\n",
    "\n",
    "## Solution:"
   ]
  },
  {
   "cell_type": "code",
   "execution_count": 27,
   "id": "991177e6",
   "metadata": {},
   "outputs": [
    {
     "name": "stdout",
     "output_type": "stream",
     "text": [
      "t this is a sentence with many t's\n",
      "4 t's\n"
     ]
    }
   ],
   "source": [
    "#prompt for input\n",
    "string = input().split()\n",
    "\n",
    "character = string[0]\n",
    "\n",
    "phrase = []\n",
    "for c in range(len(string)):\n",
    "    if c > 0:\n",
    "        phrase.append(string[c])\n",
    "        \n",
    "\n",
    "count = []\n",
    "for n in range(len(phrase)):\n",
    "    x = phrase[n].count(character)\n",
    "    count.append(x)\n",
    "\n",
    "appear = sum(count)\n",
    "\n",
    "if appear == 1:\n",
    "    print(f'{appear} {character}')\n",
    "    \n",
    "elif appear > 1 or appear == 0:\n",
    "    print(f\"{appear} {character}'s\")\n",
    "    \n"
   ]
  },
  {
   "cell_type": "markdown",
   "id": "85364a02",
   "metadata": {},
   "source": [
    "### Problem 3: Data visualization\n",
    "_______\n",
    "\n",
    "**Do as directed:** \n",
    "\n",
    "1. Prompt the user for a title for data. Output the title.\n",
    "2. Prompt the user for the headers of two columns of a table. Output the column headers.\n",
    "3. Prompt the user for data points. Data points must be in this format: string, int. Store the information before the comma into a string variable and the information after the comma into an integer. The user will enter -1 when they have finished entering data points. Output the data points. Store the string components of the data points in a list of strings. Store the integer components of the data points in a list of integers.\n",
    "4.  Perform error checking for the data point entries. If any of the following errors occurs, output the appropriate error message and prompt again for a valid data point.\n",
    "5. Output the information in a formatted table. The title is right justified with a minimum field width value of 33. Column 1 has a minimum field width value of 20. Column 2 has a minimum field width value of 23.\n",
    "\n",
    "|Author name|Number of novels|\n",
    "|:--------------------|:----:|\n",
    "|Jane Austen         |   6|\n",
    "|Charles Dickens     |  20|\n",
    "|Ernest Hemingway    |   9|\n",
    "|Jack Kerouac        |  22|\n",
    "|F. Scott Fitzgerald |   8|\n",
    "|Mary Shelley        |   7|\n",
    "|Charlotte Bronte    |   5|\n",
    "|Mark Twain          |  11|\n",
    "|Agatha Christie     |  73|\n",
    "|Ian Flemming        |  14|\n",
    "|Stephen King        |  54|\n",
    "|Oscar Wilde         |   1|\n",
    "\n",
    "6. Output the information as a formatted histogram. Each name is right justified with a minimum field width value of 20. \n",
    "_______\n",
    "## Solution:"
   ]
  },
  {
   "cell_type": "code",
   "execution_count": 1,
   "id": "ebe4d3d4",
   "metadata": {},
   "outputs": [
    {
     "name": "stdout",
     "output_type": "stream",
     "text": [
      "Enter a title for the data:\n",
      "Number of Novels Authored\n",
      "You entered: Number of Novels Authored\n",
      "\n",
      "Enter the column 1 header:\n",
      "Author Name\n",
      "You entered: Author Name\n",
      "\n",
      "Enter the column 2 header:\n",
      "Number of Novels\n",
      "You entered: Number of Novels\n",
      "\n",
      "Enter a data point (-1 to stop input):\n",
      "Jane Austen,6\n",
      "Data string: Jane Austen\n",
      "Data integer: 6\n",
      "\n",
      "Enter a data point (-1 to stop input):\n",
      "Charles Dickens,20\n",
      "Data string: Charles Dickens\n",
      "Data integer: 20\n",
      "\n",
      "Enter a data point (-1 to stop input):\n",
      "Ernest Hemingway,9\n",
      "Data string: Ernest Hemingway\n",
      "Data integer: 9\n",
      "\n",
      "Enter a data point (-1 to stop input):\n",
      "Jack Kerouac,22\n",
      "Data string: Jack Kerouac\n",
      "Data integer: 22\n",
      "\n",
      "Enter a data point (-1 to stop input):\n",
      "F. Scott Fitzgerald,8\n",
      "Data string: F. Scott Fitzgerald\n",
      "Data integer: 8\n",
      "\n",
      "Enter a data point (-1 to stop input):\n",
      "Mary Shelley,7\n",
      "Data string: Mary Shelley\n",
      "Data integer: 7\n",
      "\n",
      "Enter a data point (-1 to stop input):\n",
      "Charlotte Bronte,5\n",
      "Data string: Charlotte Bronte\n",
      "Data integer: 5\n",
      "\n",
      "Enter a data point (-1 to stop input):\n",
      "Mark Twain,11\n",
      "Data string: Mark Twain\n",
      "Data integer: 11\n",
      "\n",
      "Enter a data point (-1 to stop input):\n",
      "Agatha Christie,73\n",
      "Data string: Agatha Christie\n",
      "Data integer: 73\n",
      "\n",
      "Enter a data point (-1 to stop input):\n",
      "Ian Flemming,14\n",
      "Data string: Ian Flemming\n",
      "Data integer: 14\n",
      "\n",
      "Enter a data point (-1 to stop input):\n",
      "Stephen King,54\n",
      "Data string: Stephen King\n",
      "Data integer: 54\n",
      "\n",
      "Enter a data point (-1 to stop input):\n",
      "Oscar Wilde,1\n",
      "Data string: Oscar Wilde\n",
      "Data integer: 1\n",
      "\n",
      "Enter a data point (-1 to stop input):\n",
      "-1\n",
      "\n",
      "        Number of Novels Authored\n",
      "Author Name         |       Number of Novels\n",
      "--------------------------------------------\n",
      "Jane Austen         |                      6\n",
      "Charles Dickens     |                     20\n",
      "Ernest Hemingway    |                      9\n",
      "Jack Kerouac        |                     22\n",
      "F. Scott Fitzgerald |                      8\n",
      "Mary Shelley        |                      7\n",
      "Charlotte Bronte    |                      5\n",
      "Mark Twain          |                     11\n",
      "Agatha Christie     |                     73\n",
      "Ian Flemming        |                     14\n",
      "Stephen King        |                     54\n",
      "Oscar Wilde         |                      1\n",
      "\n",
      "         Jane Austen ******\n",
      "     Charles Dickens ********************\n",
      "    Ernest Hemingway *********\n",
      "        Jack Kerouac **********************\n",
      " F. Scott Fitzgerald ********\n",
      "        Mary Shelley *******\n",
      "    Charlotte Bronte *****\n",
      "          Mark Twain ***********\n",
      "     Agatha Christie *************************************************************************\n",
      "        Ian Flemming **************\n",
      "        Stephen King ******************************************************\n",
      "         Oscar Wilde *\n"
     ]
    }
   ],
   "source": [
    "\n",
    "title = input(\"Enter a title for the data:\\n\")\n",
    "print('You entered:', title)\n",
    "print()\n",
    "\n",
    "column_header1 = input(\"Enter the column 1 header:\\n\")\n",
    "print('You entered:', column_header1)\n",
    "print()\n",
    "\n",
    "column_header2 = input(\"Enter the column 2 header:\\n\")\n",
    "print('You entered:', column_header2)\n",
    "print()\n",
    "data_point_input = input('Enter a data point (-1 to stop input):\\n').split(\",\")\n",
    "\n",
    "list_strng = []\n",
    "list_intger = []\n",
    "\n",
    "while data_point_input[0] != '-1':\n",
    "    \n",
    "    if len(data_point_input) == 1:                 #error checking in input      \n",
    "        print(\"Error: No comma in string.\")\n",
    "        print()\n",
    "    \n",
    "    elif len(data_point_input) > 2:\n",
    "        print(\"Error: Too many commas in input.\")\n",
    "        print()\n",
    "        \n",
    "    elif (data_point_input[1].replace(' ','')).isdigit() is False:\n",
    "        print('Error: Comma not followed by an integer.')\n",
    "        print()\n",
    "    \n",
    "    else:\n",
    "        str_comp = data_point_input[0]         #split and assign required values\n",
    "        int_comp = data_point_input[1].replace(' ','') \n",
    "        \n",
    "        print('Data string:', str_comp)\n",
    "        print('Data integer:', int_comp)\n",
    "        print()\n",
    "        \n",
    "        list_strng.append(str_comp)           #append to resp. lists\n",
    "        list_intger.append(int(int_comp))  \n",
    "            \n",
    "    \n",
    "    data_point_input = input('Enter a data point (-1 to stop input):\\n').split(',')\n",
    "    \n",
    "       \n",
    "print()\n",
    "print(f'{title:>33}')                                       #Title\n",
    "\n",
    "print(f'{column_header1:<20}|{column_header2:>23}')         #Header\n",
    "print('-' * 44)\n",
    "\n",
    "for i,j in zip(list_strng,list_intger):                     #Table Body\n",
    "    print(f'{i:<20}|{j:>23}') \n",
    "\n",
    "\n",
    "print()\n",
    "\n",
    "for name, data in zip(list_strng, list_intger):            #Histogram\n",
    "    print(f'{name:>20} {\"*\" * data}')\n"
   ]
  },
  {
   "cell_type": "markdown",
   "id": "ee6d5fad",
   "metadata": {},
   "source": [
    "### Problem 4:\n",
    "\n",
    "**Do as directed:**\n",
    "\n",
    "1. Prompt the user to enter a string of their choosing. Output the string.\n",
    "2. Write the get_num_of_characters() function, which returns the number of characters in the user's string. We encourage you to use a for loop in this function.\n",
    "3. Extend the program by calling the get_num_of_characters() function and then output the returned result.\n",
    "4.  Extend the program further by implementing the output_without_whitespace() function. output_without_whitespace() outputs the string's characters except for whitespace (spaces, tabs)\n",
    "\n",
    "## Solution:"
   ]
  },
  {
   "cell_type": "code",
   "execution_count": 1,
   "id": "e268ed9b",
   "metadata": {},
   "outputs": [
    {
     "name": "stdout",
     "output_type": "stream",
     "text": [
      "Enter a sentence or phrase:\n",
      "The rain in Spain stays mainly in the plain.\n",
      "\n",
      "You entered: The rain in Spain stays mainly in the plain.\n",
      "\n",
      "Number of characters: 44\n",
      "String with no whitespace: TheraininSpainstaysmainlyintheplain.\n"
     ]
    }
   ],
   "source": [
    "def get_num_of_characters(char):\n",
    "    store = []\n",
    "    for i in char:\n",
    "        store.append(i)\n",
    "        \n",
    "    num = len(store)\n",
    "    \n",
    "    return num\n",
    "\n",
    "def output_without_whitespace(withspace):\n",
    "    store = []\n",
    "    s2 = ''\n",
    "    for c in withspace:\n",
    "        store.append(c)\n",
    "        \n",
    "    for k in store:\n",
    "        if k == ' ':\n",
    "            continue\n",
    "        else:\n",
    "            s2 += k\n",
    "            \n",
    "    return s2\n",
    "\n",
    "if __name__ == '__main__':\n",
    "    phrase = input('Enter a sentence or phrase:\\n')\n",
    "    print()\n",
    "    \n",
    "    print(f'You entered: {phrase}')\n",
    "    print()\n",
    "\n",
    "    \n",
    "    print(f'Number of characters: {get_num_of_characters(phrase)}')\n",
    "    print(f'String with no whitespace: {output_without_whitespace(phrase)}')"
   ]
  },
  {
   "cell_type": "markdown",
   "id": "e7aecced",
   "metadata": {},
   "source": [
    "### Problem 5:\n",
    "\n",
    "An acronym is a word formed from the initial letters of words in a set phrase. Write a program whose input is a phrase and whose output is an acronym of the input. Append a period (.) after each letter in the acronym. If a word begins with a lower case letter, don't include that letter in the acronym. Assume the input has at least one upper case letter.\n",
    "\n",
    "## Solution:"
   ]
  },
  {
   "cell_type": "code",
   "execution_count": 10,
   "id": "be93ec99",
   "metadata": {},
   "outputs": [
    {
     "name": "stdout",
     "output_type": "stream",
     "text": [
      "The input goes here: Light Amplification by the Stimulated Emission of Radiation\n",
      "\n",
      " L.A.S.E.R.\n"
     ]
    }
   ],
   "source": [
    "input_string = input('The input goes here: ')\n",
    "\n",
    "words = input_string.split()\n",
    "acro = \"\"\n",
    "for i in range(len(words)):\n",
    "    if words[i] == words[i].capitalize():\n",
    "        allowed = words[i]\n",
    "        #print(words[i])\n",
    "        acro += str(allowed[0])\n",
    "        \n",
    "\n",
    "print(\"\\n\",\".\".join(acro) + '.')"
   ]
  },
  {
   "cell_type": "markdown",
   "id": "d522c924",
   "metadata": {},
   "source": [
    "### Problem 6:\n",
    "\n",
    "*Elements in a range*\n",
    "\n",
    "Write a program that first gets a list of integers from input. That list is followed by two more integers representing lower and upper bounds of a range. Your program should output all integers from the list that are within that range (inclusive of the bounds)\n",
    "\n",
    "## Solution:"
   ]
  },
  {
   "cell_type": "code",
   "execution_count": 40,
   "id": "02c19227",
   "metadata": {},
   "outputs": [
    {
     "name": "stdout",
     "output_type": "stream",
     "text": [
      "26 44 13 37 19 48 56 73 34\n",
      "25 50\n",
      "The values in Range: 25 - 50 are: 26 44 37 48 34 "
     ]
    }
   ],
   "source": [
    "#required input values\n",
    "values = input().split()\n",
    "bounds = input().split()\n",
    "\n",
    "#setting_bounds\n",
    "lower_bound = int(bounds[0])\n",
    "upper_bound = int(bounds[1])\n",
    "\n",
    "print(f'The values in Range: {lower_bound} - {upper_bound} are:',end = ' ')\n",
    "\n",
    "for val in values:\n",
    "    if int(val) >= lower_bound and int(val) <= upper_bound:\n",
    "        print(str(val), end =' ')\n",
    "\n"
   ]
  },
  {
   "cell_type": "markdown",
   "id": "757f38cd",
   "metadata": {},
   "source": [
    "### Problem 7:\n",
    "\n",
    "**Output values in a list below a user defined amount**\n",
    "\n",
    "Write a program that first gets a list of integers from input. The input begins with an integer indicating the number of integers that follows. Then, get the last value from the input, and output all integers less than or equal to that value.\n",
    "\n",
    "The 5 indicates that five integers are in the list, namely 50, 60, 140, 200, and 75. The 100 indicates that the program should output all integers less than or equal to 100, so the program outputs 50, 60, and 75.\n",
    "\n",
    "Such functionality is common on sites like Amazon, where a user can filter results. Utilizing functions will help to make your main very clean and intuitive.\n",
    "\n",
    "## Solution:"
   ]
  },
  {
   "cell_type": "code",
   "execution_count": 11,
   "id": "91982d2f",
   "metadata": {},
   "outputs": [
    {
     "name": "stdout",
     "output_type": "stream",
     "text": [
      "Enter the value range: 5\n",
      "Enter value 1: 50\n",
      "Enter value 2: 60\n",
      "Enter value 3: 140\n",
      "Enter value 4: 75\n",
      "Enter value 5: 80\n",
      "\n",
      "Choose a threshold value: 70\n",
      "\n",
      "Output:\n",
      "50\n",
      "60\n"
     ]
    }
   ],
   "source": [
    "# Define your functions here\n",
    "def get_user_values():\n",
    "    list1 = []\n",
    "    \n",
    "    value_range = int(input('Enter the value range: '))\n",
    "    \n",
    "    for val in range(value_range):\n",
    "        val = int(input(f'Enter value {val+1}: '))\n",
    "        list1.append(val)\n",
    "    print()    \n",
    "    val_threshold = int(input('Choose a threshold value: '))\n",
    "        \n",
    "    return list1, val_threshold\n",
    "    \n",
    "def ints_less_than_or_equal_to_threshold(val, uth):\n",
    "    list2 = []\n",
    "    for i in range(len(val)):\n",
    "        if val[i] <= upper_threshold:\n",
    "            list2.append(val[i])\n",
    "    return list2\n",
    "\n",
    "if __name__ == '__main__':\n",
    "    user_values, upper_threshold = get_user_values()\n",
    "    #print(f'val:{user_values}, ut: {upper_threshold}')\n",
    "    \n",
    "    res_values = ints_less_than_or_equal_to_threshold(user_values, upper_threshold)\n",
    "    print()\n",
    "    print('Output:')\n",
    "    for value in res_values:\n",
    "        print(value)\n"
   ]
  },
  {
   "cell_type": "markdown",
   "id": "6edf8e19",
   "metadata": {},
   "source": [
    "### Problem 8:\n",
    "\n",
    "Write a program that reads a character, then reads in a list of words. The output of the program is every word in the list that contains the character at least once. Assume at least one word in the list will contain the given character.\n",
    "\n",
    "## Solution:"
   ]
  },
  {
   "cell_type": "code",
   "execution_count": 29,
   "id": "f4671565",
   "metadata": {},
   "outputs": [
    {
     "name": "stdout",
     "output_type": "stream",
     "text": [
      "Your sentence goes here: How much wood would a woodchuck chuck if a woodchuck could chuck wood? He would chuck, he would, as much as he could, and chuck as much wood As a woodchuck would if a woodchuck could chuck wood\n",
      "\n",
      "Enter Character: h\n",
      "\n",
      "much\n",
      "woodchuck\n",
      "chuck\n",
      "woodchuck\n",
      "chuck\n",
      "chuck,\n",
      "he\n",
      "much\n",
      "he\n",
      "chuck\n",
      "much\n",
      "woodchuck\n",
      "woodchuck\n",
      "chuck\n"
     ]
    }
   ],
   "source": [
    "\n",
    "words = input('Your sentence goes here: ').split()\n",
    "character = input('\\nEnter Character: ')\n",
    "\n",
    "print()\n",
    "for i in words:\n",
    "    if character in i:\n",
    "        print(i)"
   ]
  },
  {
   "cell_type": "markdown",
   "id": "fd3a4dad",
   "metadata": {},
   "source": [
    "### Problem 9:\n",
    "\n",
    "Statistics are often calculated with varying amounts of input data. Write a program that takes any number of integers as input, and outputs the average and max.\n",
    "\n",
    "## Solution:"
   ]
  },
  {
   "cell_type": "code",
   "execution_count": 34,
   "id": "f227a324",
   "metadata": {},
   "outputs": [
    {
     "name": "stdout",
     "output_type": "stream",
     "text": [
      "23 44 25 16 21 30\n",
      "Mean:26.5 and Max:44\n"
     ]
    }
   ],
   "source": [
    "from statistics import mean\n",
    "\n",
    "store = [ ]\n",
    "values = input().split()\n",
    "\n",
    "for c in values:\n",
    "    c = int(c)\n",
    "    store.append(c)\n",
    "\n",
    "print(f'Mean:{mean(store)} and Max:{max(store)}')"
   ]
  },
  {
   "cell_type": "markdown",
   "id": "750d3eff",
   "metadata": {},
   "source": [
    "### Problem 10:\n",
    "\n",
    "Write a program that takes in a positive integer as input, and outputs a string of 1's and 0's representing the integer in binary.\n",
    "\n",
    "The program must define and call the following two functions. Define a function named int_to_reverse_binary() that takes an integer as a parameter and returns a string of 1's and 0's representing the integer in binary (in reverse). Define a function named string_reverse() that takes an input string as a parameter and returns a string representing the input string in reverse.\n",
    "\n",
    "## Solution:"
   ]
  },
  {
   "cell_type": "code",
   "execution_count": 15,
   "id": "67c7a222",
   "metadata": {},
   "outputs": [
    {
     "name": "stdout",
     "output_type": "stream",
     "text": [
      "Enter a decimal number: 83\n",
      "The binary equivalent of 83 is 1010011\n"
     ]
    }
   ],
   "source": [
    "# Define your functions here.\n",
    "def int_to_reverse_binary(value):\n",
    "    bins = ''\n",
    "    while value > 0:\n",
    "        bin_rem = value % 2\n",
    "        bins += str(bin_rem)\n",
    "        value //= 2\n",
    "    \n",
    "    #print(bins)\n",
    "    \n",
    "    return bins\n",
    "\n",
    "def string_reverse(strn):\n",
    "    rev = ''\n",
    "    \n",
    "    strn = str(strn)\n",
    "    for i in range(len(strn)-1,-1,-1):\n",
    "        rev += strn[i]\n",
    "    \n",
    "    return rev\n",
    "\n",
    "\n",
    "if __name__ == '__main__':\n",
    "    user_val = int(input('Enter a decimal number: '))\n",
    "    x = int_to_reverse_binary(user_val)\n",
    "    \n",
    "    print(f'The binary equivalent of {user_val} is {string_reverse(x)}')\n",
    "    \n",
    "    "
   ]
  },
  {
   "cell_type": "markdown",
   "id": "601f093c",
   "metadata": {},
   "source": [
    "### Problem 11:\n",
    "\n",
    "A contact list is a place where you can store a specific contact with other associated information such as a phone number, email address, birthday, etc. Write a program that first takes in word pairs that consist of a name and a phone number (both strings), separated by a comma. That list is followed by a name, and your program should output the phone number associated with that name. Assume the search name is always in the list.\n",
    "\n",
    "## Solution:"
   ]
  },
  {
   "cell_type": "code",
   "execution_count": 46,
   "id": "9fcb802e",
   "metadata": {},
   "outputs": [
    {
     "name": "stdout",
     "output_type": "stream",
     "text": [
      "Contact List:\n",
      "Rohan,393-1297 Sakshi,142-1365 Nikhil,512-3722 Dhanashree,132-2348 Mohit,291-5791\n",
      "\n",
      "Search Name:Sakshi\n",
      "142-1365\n"
     ]
    }
   ],
   "source": [
    "#contact details input prompt\n",
    "input_list = input('Contact List:\\n').split(\" \")\n",
    "\n",
    "contacts = {}\n",
    "\n",
    "for item in input_list:\n",
    "    name, phone_num = item.split(',')\n",
    "    contacts[name] = phone_num\n",
    "    \n",
    "#prompt for search\n",
    "search_name = input('\\nSearch Name:')\n",
    "print(contacts[search_name])\n",
    "\n"
   ]
  },
  {
   "cell_type": "markdown",
   "id": "e89f1ce2",
   "metadata": {},
   "source": [
    "### Problem 12:\n",
    "\n",
    "Given class Triangle, complete the program to read and set the base and height of triangle1 and triangle2, determine which triangle's area is larger, and output the larger triangle's info, making use of Triangle's relevant methods.\n",
    "\n",
    "## Solution:"
   ]
  },
  {
   "cell_type": "code",
   "execution_count": 50,
   "id": "bdf26f63",
   "metadata": {},
   "outputs": [
    {
     "name": "stdout",
     "output_type": "stream",
     "text": [
      "12.5\n",
      "18.4\n",
      "7.3\n",
      "2.2\n",
      "\n",
      "Triangle with larger area:\n",
      "Base: 12.50\n",
      "Height: 18.40\n",
      "Area: 115.00\n"
     ]
    }
   ],
   "source": [
    "class Triangle:   \n",
    "    def __init__(self):\n",
    "        self.base = 0\n",
    "        self.height = 0\n",
    "\n",
    "    def set_base(self, user_base):\n",
    "        self.base = user_base\n",
    "\n",
    "    def set_height(self, user_height):\n",
    "        self.height = user_height\n",
    "   \n",
    "    def get_area(self):\n",
    "        area = 0.5 * self.base * self.height\n",
    "        return area\n",
    "   \n",
    "    def print_info(self):\n",
    "        print(f'Base: {self.base:.2f}')\n",
    "        print(f'Height: {self.height:.2f}')\n",
    "        print(f'Area: {self.get_area():.2f}')\n",
    "\n",
    "if __name__ == \"__main__\":\n",
    "    triangle1 = Triangle()\n",
    "    triangle2 = Triangle()\n",
    "\n",
    "    # Read and set base and height for triangle1 (use set_base() and set_height())\n",
    "    triangle1.set_base(float(input()))\n",
    "    triangle1.set_height(float(input()))  \n",
    "    # Read and set base and height for triangle2 (use set_base() and set_height())\n",
    "    triangle2.set_base(float(input()))\n",
    "    triangle2.set_height(float(input()))  \n",
    "    # Determine larger triangle (use get_area())\n",
    "    \n",
    "    def larger_area(T1,T2):\n",
    "        if T1 > T2:\n",
    "            return triangle1.print_info()\n",
    "        else:\n",
    "            return triangle2.print_info()\n",
    "            \n",
    "    print('\\nTriangle with larger area:')\n",
    "    #Output larger triangle's info (use print_info())\n",
    "    larger_area(triangle1.get_area(),triangle2.get_area())\n",
    "    "
   ]
  },
  {
   "cell_type": "markdown",
   "id": "e6d8f5b3",
   "metadata": {},
   "source": [
    "### Problem 13:\n",
    "\n",
    "Write a program that finds word differences between two sentences. The input begins with the first sentence and the following input line is the second sentence. Assume that the two sentences have the same number of words.\n",
    "\n",
    "The program displays word pairs that differ between the two sentences. One pair is displayed per line.\n",
    "\n",
    "## Solution:"
   ]
  },
  {
   "cell_type": "code",
   "execution_count": 54,
   "id": "87f58b11",
   "metadata": {},
   "outputs": [
    {
     "name": "stdout",
     "output_type": "stream",
     "text": [
      "Two sentences may differ\n",
      "for every single word\n",
      "\n",
      "Two for\n",
      "sentences every\n",
      "may single\n",
      "differ word\n"
     ]
    }
   ],
   "source": [
    "\n",
    "sent1 = input().split()\n",
    "sent2 = input().split()\n",
    "\n",
    "print()\n",
    "for i in range(len(sent1)):\n",
    "    if sent1[i] != sent2[i]:\n",
    "        print(sent1[i], sent2[i])"
   ]
  },
  {
   "cell_type": "markdown",
   "id": "5bb9f486",
   "metadata": {},
   "source": [
    "### Problem 14:\n",
    "\n",
    "Script the Car class by creating an attribute purchase_price (type int) and the method print_info() that outputs the car's information. \n",
    "\n",
    "*The input is*:\n",
    "```\n",
    "2015\n",
    "$29500\n",
    "2023\n",
    "```\n",
    "\n",
    "where 2011 is the car's model year, 18000 is the purchase price, and 2018 is the current year, then print_info() outputs:\n",
    "\n",
    "```Car's information:\n",
    "   Model year: 2015\n",
    "   Purchase price: $29500\n",
    "   Current value: ???\n",
    "   ````\n",
    "   \n",
    "## Solution:"
   ]
  },
  {
   "cell_type": "code",
   "execution_count": 60,
   "id": "057e0ba3",
   "metadata": {},
   "outputs": [
    {
     "name": "stdout",
     "output_type": "stream",
     "text": [
      "Model Year: 2015\n",
      "Purchase Price: 29500\n",
      "Current Year: 2023\n",
      "\n",
      "Car's information:\n",
      "   Model year: 2015\n",
      "   Purchase price: 29500\n",
      "   Current value: $8038\n"
     ]
    }
   ],
   "source": [
    "class Car:\n",
    "    def _init_(self,model_year,purchase_price):\n",
    "        self.model_year = model_year\n",
    "        self.purchase_price = purchase_price\n",
    "        self.current_value = 0\n",
    "\n",
    "    def calc_current_value(self, current_year):\n",
    "        depreciation_rate = 0.15\n",
    "        # Car depreciation formula\n",
    "        car_age = current_year - self.model_year\n",
    "        self.current_value = round(self.purchase_price * (1 - depreciation_rate) ** car_age)\n",
    "    \n",
    "    # Define print_info() method to output model_year, purchase_price, and current_value\n",
    "    def print_info(self):\n",
    "        return print(f\"Car's information:\\n   Model year: {self.model_year}\\n   Purchase price: {self.purchase_price}\\n   Current value: ${self.current_value}\")\n",
    "\n",
    "if __name__ == \"__main__\":    \n",
    "    year = int(input('Model Year: ')) \n",
    "    price = int(input('Purchase Price: '))\n",
    "    current_year = int(input('Current Year: '))\n",
    "    \n",
    "    my_car = Car()\n",
    "    my_car.model_year = year\n",
    "    my_car.purchase_price = price\n",
    "    my_car.calc_current_value(current_year)\n",
    "    print()\n",
    "    my_car.print_info()"
   ]
  },
  {
   "cell_type": "markdown",
   "id": "a2dec278",
   "metadata": {},
   "source": [
    "### Problme 15:\n",
    "\n",
    "1. Prompt the user to enter four numbers, each corresponding to a person's weight in pounds. Store all weights in a list. Output the list.\n",
    "2. Output the average of the list's elements with two digits after the decimal point. *Hint: Use a conversion specifier to output with a certain number of digits after the decimal point.*\n",
    "3. Output the max list element with two digits after the decimal point. \n",
    "4. Prompt the user for a number between 1 and 4. Output the weight at the user specified location and the corresponding value in kilograms. 1 kilogram is equal to 2.2 pounds.\n",
    "5.  Sort the list's elements from least heavy to heaviest weight.\n",
    "\n",
    "## Solution:"
   ]
  },
  {
   "cell_type": "code",
   "execution_count": 2,
   "id": "2e40e39d",
   "metadata": {},
   "outputs": [
    {
     "name": "stdout",
     "output_type": "stream",
     "text": [
      "Enter weight 1: 145.65\n",
      "Enter weight 2: 193.42\n",
      "Enter weight 3: 134.27\n",
      "Enter weight 4: 188.57\n",
      "Weights: [145.65, 193.42, 134.27, 188.57]\n",
      "\n",
      "Average weight: 165.48\n",
      "Max weight: 193.42\n",
      "\n",
      "Enter a list location (1 - 4):\n",
      "2\n",
      "Weight in pounds: 193.42\n",
      "Weight in kilograms: 87.92\n",
      "\n",
      "Sorted list: [134.27, 145.65, 188.57, 193.42]\n"
     ]
    }
   ],
   "source": [
    "from statistics import mean\n",
    "weight = []\n",
    "\n",
    "w1 = float(input(\"Enter weight 1: \"))\n",
    "w2 = float(input(\"Enter weight 2: \"))\n",
    "w3 = float(input(\"Enter weight 3: \"))\n",
    "w4 = float(input(\"Enter weight 4: \"))\n",
    "\n",
    "weight.append(w1)\n",
    "weight.append(w2)\n",
    "weight.append(w3)\n",
    "weight.append(w4)\n",
    "\n",
    "print(f'Weights: {weight}')\n",
    "print()\n",
    "print(f'Average weight: {mean(weight):.2f}')\n",
    "print(f'Max weight: {max(weight):.2f}')\n",
    "\n",
    "print()\n",
    "index = int(input(\"Enter a list location (1 - 4):\\n\"))\n",
    "print(f'Weight in pounds: {weight[index - 1]:.2f}')\n",
    "print(f'Weight in kilograms: {(weight[index - 1]/2.2):.2f}')\n",
    "print()\n",
    "\n",
    "weight.sort()\n",
    "print(f'Sorted list: {weight}')"
   ]
  },
  {
   "cell_type": "markdown",
   "id": "cdc7c8de",
   "metadata": {},
   "source": [
    "### Problem 16:\n",
    "\n",
    "Script the *FoodItem* class by adding a constructor to initialize a food item. The constructor should initialize the name (a string) to \"None\" and all other instance attributes to 0.0 by default. If the constructor is called with a food name, grams of fat, grams of carbohydrates, and grams of protein, the constructor should assign each instance attribute with the appropriate parameter value.\n",
    "\n",
    "## Solution:"
   ]
  },
  {
   "cell_type": "code",
   "execution_count": 7,
   "id": "0a6647d5",
   "metadata": {},
   "outputs": [
    {
     "name": "stdout",
     "output_type": "stream",
     "text": [
      "Item Name: Choco Chip Cookies\n",
      "Fat:12.3\n",
      "Carbs: 31.4\n",
      "Protein: 19.7\n",
      "Number of servings: 2\n",
      "\n",
      "Nutritional information per serving of Banana Pancake:\n",
      "   Fat: 13.40 g\n",
      "   Carbohydrates: 28.90 g\n",
      "   Protein: 17.30 g\n",
      "Number of calories for 2.00 serving(s): 610.80\n",
      "\n",
      "Nutritional information per serving of Choco Chip Cookies:\n",
      "   Fat: 12.30 g\n",
      "   Carbohydrates: 31.40 g\n",
      "   Protein: 19.70 g\n",
      "Number of calories for 2.00 serving(s): 630.20\n"
     ]
    }
   ],
   "source": [
    "class FoodItem:\n",
    "    # Defining constructor with parameters to initialize instance attributes (name, fat, carbs, protein)\n",
    "    def __init__(self,name='None',fat=0.0,carbs=0.0,protein=0.0):\n",
    "        self.name=name\n",
    "        self.fat=fat\n",
    "        self.carbs=carbs\n",
    "        self.protein=protein\n",
    "       \n",
    "    def get_calories(self, num_servings):\n",
    "        # Calorie formula\n",
    "        calories = ((self.fat * 9) + (self.carbs * 4) + (self.protein * 4)) * num_servings;\n",
    "        return calories\n",
    "       \n",
    "    def print_info(self):\n",
    "        print(f'Nutritional information per serving of {self.name}:')\n",
    "        print(f'   Fat: {self.fat:.2f} g')\n",
    "        print(f'   Carbohydrates: {self.carbs:.2f} g')\n",
    "        print(f'   Protein: {self.protein:.2f} g')\n",
    "\n",
    "if __name__ == \"__main__\":\n",
    "    #creating food_item1 object and initializinf it's instances. \n",
    "    food_item1 = FoodItem('Banana Pancake',13.4,28.9,17.3)\n",
    "   \n",
    "    item_name = input('Item Name: ')\n",
    "    amount_fat = float(input('Fat:'))\n",
    "    amount_carbs = float(input('Carbs: '))\n",
    "    amount_protein = float(input('Protein: '))\n",
    "    \n",
    "    #creating food_item2 object\n",
    "    food_item2 = FoodItem(item_name, amount_fat, amount_carbs, amount_protein)\n",
    "      \n",
    "    num_servings = float(input('Number of servings: '))\n",
    "    print()\n",
    "      \n",
    "    food_item1.print_info()\n",
    "    print(f'Number of calories for {num_servings:.2f} serving(s): {food_item1.get_calories(num_servings):.2f}')\n",
    "                           \n",
    "    print()\n",
    "                           \n",
    "    food_item2.print_info()\n",
    "    print(f'Number of calories for {num_servings:.2f} serving(s): {food_item2.get_calories(num_servings):.2f}')\n",
    "    "
   ]
  },
  {
   "cell_type": "markdown",
   "id": "707408c8",
   "metadata": {},
   "source": [
    "### Problem 17:\n",
    "Script a program that calculates an adult's fat-burning heart rate, which is 70% of 220 minus the person's age. Script a fat_burning_heart_rate() func. to calculate the fat burning heart rate.\n",
    "\n",
    "The adult's age must be between the ages of 18 and 75 inclusive. If the age entered is not in this range, raise a ValueError exception in get_age() with the message \"Invalid age.\" Handle the exception in __main__ and print the ValueError message along with \"Could not calculate heart rate info.\"\n",
    "\n",
    "## Solution:"
   ]
  },
  {
   "cell_type": "code",
   "execution_count": 8,
   "id": "32226d32",
   "metadata": {},
   "outputs": [
    {
     "name": "stdout",
     "output_type": "stream",
     "text": [
      "Enter the age: 76\n",
      "Invalid age.\n",
      "Could not calculate heart rate info.\n"
     ]
    }
   ],
   "source": [
    "def get_age():\n",
    "    age = int(input('Enter the age: '))\n",
    "    if age < 18:\n",
    "        raise ValueError('Invalid age.')\n",
    "    elif age > 75:\n",
    "        raise ValueError('Invalid age.')\n",
    "    return age\n",
    "\n",
    "def fat_burning_heart_rate(age):\n",
    "    heart_rate = (220 - age)*0.70\n",
    "    return heart_rate\n",
    "\n",
    "if __name__ == \"__main__\":\n",
    "    \n",
    "    try:\n",
    "        age_f = get_age()\n",
    "        print(f\"Fat burning heart rate for a {age_f} year-old: {fat_burning_heart_rate(age_f):.1f} bpm\")\n",
    "    except ValueError as e:\n",
    "        print(e)\n",
    "        print(\"Could not calculate heart rate info.\")"
   ]
  },
  {
   "cell_type": "markdown",
   "id": "bd1e11ce",
   "metadata": {},
   "source": [
    "### Problem 18:\n",
    "\n",
    "The given program reads a list of single-word first names and ages (ending with -1), and outputs that list with the age incremented. The program fails and throws an exception if the second input on a line is a string rather than an integer. At FIXME in the code, add try and except blocks to catch the ValueError exception and output 0 for the age.\n",
    "\n",
    "## Solution:"
   ]
  },
  {
   "cell_type": "code",
   "execution_count": 9,
   "id": "0e5b9409",
   "metadata": {},
   "outputs": [
    {
     "name": "stdout",
     "output_type": "stream",
     "text": [
      "Laura Jean 17\n",
      "Laura 0\n",
      "Christine 55\n",
      "Christine 56\n",
      "Felicia 31\n",
      "Felicia 32\n",
      "Kofi Drew 39\n",
      "Kofi 0\n",
      " Margaux 98\n",
      "Margaux 99\n",
      "-1\n"
     ]
    }
   ],
   "source": [
    "\n",
    "parts = input().split()\n",
    "name = parts[0]\n",
    "while name != '-1':\n",
    "    # FIXME: The following line will throw ValueError exception.\n",
    "    # Insert try/except blocks to catch the exception.\n",
    "    try:\n",
    "        age = int(parts[1]) + 1\n",
    "        print(f'{name} {age}')\n",
    "    \n",
    "    except:\n",
    "        print(f'{name} 0')\n",
    "    \n",
    "    # Get next line\n",
    "    parts = input().split()\n",
    "    name = parts[0]"
   ]
  },
  {
   "cell_type": "markdown",
   "id": "a75ad5e3",
   "metadata": {},
   "source": [
    "### Problem 19:\n",
    "\n",
    "Script the Team class implementation. For the instance method get_win_percentage(), the formula is:\n",
    "**team_wins / (team_wins + team_losses)**\n"
   ]
  },
  {
   "cell_type": "code",
   "execution_count": 10,
   "id": "8f522706",
   "metadata": {},
   "outputs": [
    {
     "name": "stdout",
     "output_type": "stream",
     "text": [
      "Enter the Team Name: BROOKLYN NETS\n",
      "Number of Wins: 32\n",
      "Number of Losses: 20\n",
      "Congratulations, Team BROOKLYN NETS has a winning average!\n"
     ]
    }
   ],
   "source": [
    "class Team:\n",
    "    def __init__(self):\n",
    "        self.team_name = 'none'\n",
    "        self.team_wins = 0\n",
    "        self.team_losses = 0\n",
    "\n",
    "    # defining get_win_percentage() func\n",
    "    def get_win_percentage(self):\n",
    "        return self.team_wins / (self.team_wins + self.team_losses) \n",
    "\n",
    "\n",
    "if __name__ == \"__main__\":\n",
    "    \n",
    "    team = Team()\n",
    "   \n",
    "    team_name = input('Enter the Team Name: ')\n",
    "    team_wins = int(input('Number of Wins: '))\n",
    "    team_losses = int(input('Number of Losses: '))\n",
    "    \n",
    "    team.team_name = team_name\n",
    "    team.team_wins = team_wins\n",
    "    team.team_losses = team_losses\n",
    "    \n",
    "    if team.get_win_percentage() >= 0.5:\n",
    "        print('Congratulations, Team', team.team_name,'has a winning average!')\n",
    "    else:\n",
    "        print('Team', team.team_name, 'has a losing average.')"
   ]
  },
  {
   "cell_type": "markdown",
   "id": "7a03f401",
   "metadata": {},
   "source": [
    "### Problem 20:\n",
    "\n",
    "Script the code that reads a list of integers, define the number_guess() function, which should choose a random number between 1 and 100 by calling random.randint() and then output if the guessed number is too low, too high, or correct.\n",
    "\n",
    "* random.seed(seed_value) seeds the random number generator using the given seed_value.\n",
    "* random.randint(a, b) returns a random number between a and b (inclusive).\n",
    "\n",
    "\n",
    "## Solution:"
   ]
  },
  {
   "cell_type": "code",
   "execution_count": 19,
   "id": "26bc95e1",
   "metadata": {},
   "outputs": [
    {
     "name": "stdout",
     "output_type": "stream",
     "text": [
      "32 45 48 80\n",
      "32 is too low. Random number was 80.\n",
      "45 is too high. Random number was 30.\n",
      "48 is correct!\n",
      "80 is too low. Random number was 97.\n"
     ]
    }
   ],
   "source": [
    "import random\n",
    "\n",
    "def number_guess(num):\n",
    "    # generating a  random number between 1-100\n",
    "    val = random.randint(1,100)\n",
    "\n",
    "    \n",
    "    # Reading numbers and compare to random number\n",
    "    if num > val:\n",
    "        return print(f\"{num} is too high. Random number was {val}.\")\n",
    "    elif num < val:\n",
    "        return print(f\"{num} is too low. Random number was {val}.\")\n",
    "    elif num == val:\n",
    "        return print(f\"{num} is correct!\")\n",
    "    \n",
    "    \n",
    "        \n",
    "if __name__ == \"__main__\":\n",
    "    #seeds for reproducibility\n",
    "    random.seed(900)\n",
    "    \n",
    "    # Converting the string tokens into integers\n",
    "    user_input = input()\n",
    "    tokens = user_input.split()\n",
    "    for token in tokens:\n",
    "        num = int(token)\n",
    "        number_guess(num)"
   ]
  },
  {
   "cell_type": "markdown",
   "id": "dd687c29",
   "metadata": {},
   "source": [
    "![green-divider](https://user-images.githubusercontent.com/7065401/52071924-c003ad80-2562-11e9-8297-1c6595f8a7ff.png)\n",
    "$End$ $of$ $the$ $notebook...$"
   ]
  }
 ],
 "metadata": {
  "kernelspec": {
   "display_name": "Python 3 (ipykernel)",
   "language": "python",
   "name": "python3"
  },
  "language_info": {
   "codemirror_mode": {
    "name": "ipython",
    "version": 3
   },
   "file_extension": ".py",
   "mimetype": "text/x-python",
   "name": "python",
   "nbconvert_exporter": "python",
   "pygments_lexer": "ipython3",
   "version": "3.10.8"
  }
 },
 "nbformat": 4,
 "nbformat_minor": 5
}
