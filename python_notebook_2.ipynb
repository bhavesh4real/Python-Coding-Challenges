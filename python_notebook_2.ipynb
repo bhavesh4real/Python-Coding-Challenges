{
 "cells": [
  {
   "cell_type": "markdown",
   "id": "daf0f679",
   "metadata": {},
   "source": [
    "![green-divider](https://user-images.githubusercontent.com/7065401/52071924-c003ad80-2562-11e9-8297-1c6595f8a7ff.png)\n",
    "### Problem 1:\n",
    "___\n",
    "Fibonacci sequence is the integer sequence of 0, 1, 1, 2, 3, 5, 8....\n",
    "\n",
    "The first two terms are 0 and 1. All other terms are obtained by adding the preceding two terms. \n",
    "\n",
    "This means to say the **nth** term is the *sum of* **(n-1)th**  and **(n-2)th term**.\n",
    "_______\n",
    "\n",
    "## Solution:"
   ]
  },
  {
   "cell_type": "code",
   "execution_count": 25,
   "id": "4990d74b",
   "metadata": {},
   "outputs": [
    {
     "name": "stdout",
     "output_type": "stream",
     "text": [
      "Enter number of terms:\n",
      "5\n",
      "\n",
      "Fibonacci Sequence of first 5 terms is:\n",
      "0\n",
      "1\n",
      "1\n",
      "2\n",
      "3\n"
     ]
    }
   ],
   "source": [
    "def fibonacci_seq(n):\n",
    "    n1 = 0\n",
    "    n2 = 1\n",
    "    count = 0\n",
    "    \n",
    "    if n <= 0:\n",
    "        print('Enter postive numbers to get the right sequence.')\n",
    "    elif n == 1:\n",
    "        print(f'Fibonacci Sequence:\\n',n1)\n",
    "    else:\n",
    "        while count < n:\n",
    "            print(n1)\n",
    "            nth = n1 + n2\n",
    "            n1 = n2\n",
    "            n2 = nth\n",
    "            count += 1\n",
    "            \n",
    "            \n",
    "if __name__ == '__main__':\n",
    "    n_terms = int(input('Enter number of terms:\\n'))\n",
    "    print()\n",
    "    print(f'Fibonacci Sequence of first {n_terms} terms is:')\n",
    "    fibonacci_seq(n_terms)"
   ]
  },
  {
   "cell_type": "markdown",
   "id": "93c1f3c2",
   "metadata": {},
   "source": [
    "### Problem 2:\n",
    "___\n",
    "Write a program whose input is a string which contains a character and a phrase, and whose output indicates the number of times the character appears in the phrase. The output should include the input character and use the plural form, n's, if the number of times the characters appears is not exactly 1.\n",
    "____\n",
    "\n",
    "## Solution:"
   ]
  },
  {
   "cell_type": "code",
   "execution_count": 27,
   "id": "ab6ce408",
   "metadata": {},
   "outputs": [
    {
     "name": "stdout",
     "output_type": "stream",
     "text": [
      "t this is a sentence with many t's\n",
      "4 t's\n"
     ]
    }
   ],
   "source": [
    "#prompt for input\n",
    "string = input().split()\n",
    "\n",
    "character = string[0]\n",
    "\n",
    "phrase = []\n",
    "for c in range(len(string)):\n",
    "    if c > 0:\n",
    "        phrase.append(string[c])\n",
    "        \n",
    "\n",
    "count = []\n",
    "for n in range(len(phrase)):\n",
    "    x = phrase[n].count(character)\n",
    "    count.append(x)\n",
    "\n",
    "appear = sum(count)\n",
    "\n",
    "if appear == 1:\n",
    "    print(f'{appear} {character}')\n",
    "    \n",
    "elif appear > 1 or appear == 0:\n",
    "    print(f\"{appear} {character}'s\")\n",
    "    \n"
   ]
  },
  {
   "cell_type": "markdown",
   "id": "77591b0b",
   "metadata": {},
   "source": [
    "### Problem 3: Data visualization\n",
    "_______\n",
    "1. Prompt the user for a title for data. Output the title.\n",
    "2. Prompt the user for the headers of two columns of a table. Output the column headers.\n",
    "3. Prompt the user for data points. Data points must be in this format: string, int. Store the information before the comma into a string variable and the information after the comma into an integer. The user will enter -1 when they have finished entering data points. Output the data points. Store the string components of the data points in a list of strings. Store the integer components of the data points in a list of integers.\n",
    "4.  Perform error checking for the data point entries. If any of the following errors occurs, output the appropriate error message and prompt again for a valid data point.\n",
    "5. Output the information in a formatted table. The title is right justified with a minimum field width value of 33. Column 1 has a minimum field width value of 20. Column 2 has a minimum field width value of 23.\n",
    "\n",
    "\n",
    "|Author name|Number of novels|\n",
    "|:--------------------|:----:|\n",
    "|Jane Austen         |   6|\n",
    "|Charles Dickens     |  20|\n",
    "|Ernest Hemingway    |   9|\n",
    "|Jack Kerouac        |  22|\n",
    "|F. Scott Fitzgerald |   8|\n",
    "|Mary Shelley        |   7|\n",
    "|Charlotte Bronte    |   5|\n",
    "|Mark Twain          |  11|\n",
    "|Agatha Christie     |  73|\n",
    "|Ian Flemming        |  14|\n",
    "|Stephen King        |  54|\n",
    "|Oscar Wilde         |   1|\n",
    "_______\n",
    "## Solution:"
   ]
  },
  {
   "cell_type": "code",
   "execution_count": null,
   "id": "0d5d54f8",
   "metadata": {},
   "outputs": [],
   "source": []
  },
  {
   "cell_type": "markdown",
   "id": "4531e8f7",
   "metadata": {},
   "source": [
    "### Problem 4:\n",
    "______\n",
    "1. Prompt the user to enter a string of their choosing. Output the string.\n",
    "2. Write the get_num_of_characters() function, which returns the number of characters in the user's string. We encourage you to use a for loop in this function.\n",
    "3. Extend the program by calling the get_num_of_characters() function and then output the returned result.\n",
    "4.  Extend the program further by implementing the output_without_whitespace() function. output_without_whitespace() outputs the string's characters except for whitespace (spaces, tabs)\n",
    "______\n",
    "## Solution:"
   ]
  },
  {
   "cell_type": "code",
   "execution_count": 1,
   "id": "1af15d74",
   "metadata": {},
   "outputs": [
    {
     "name": "stdout",
     "output_type": "stream",
     "text": [
      "Enter a sentence or phrase:\n",
      "The rain in Spain stays mainly in the plain.\n",
      "\n",
      "You entered: The rain in Spain stays mainly in the plain.\n",
      "\n",
      "Number of characters: 44\n",
      "String with no whitespace: TheraininSpainstaysmainlyintheplain.\n"
     ]
    }
   ],
   "source": [
    "def get_num_of_characters(char):\n",
    "    store = []\n",
    "    for i in char:\n",
    "        store.append(i)\n",
    "        \n",
    "    num = len(store)\n",
    "    \n",
    "    return num\n",
    "\n",
    "def output_without_whitespace(withspace):\n",
    "    store = []\n",
    "    s2 = ''\n",
    "    for c in withspace:\n",
    "        store.append(c)\n",
    "        \n",
    "    for k in store:\n",
    "        if k == ' ':\n",
    "            continue\n",
    "        else:\n",
    "            s2 += k\n",
    "            \n",
    "    return s2\n",
    "\n",
    "if __name__ == '__main__':\n",
    "    phrase = input('Enter a sentence or phrase:\\n')\n",
    "    print()\n",
    "    \n",
    "    print(f'You entered: {phrase}')\n",
    "    print()\n",
    "\n",
    "    \n",
    "    print(f'Number of characters: {get_num_of_characters(phrase)}')\n",
    "    print(f'String with no whitespace: {output_without_whitespace(phrase)}')"
   ]
  },
  {
   "cell_type": "markdown",
   "id": "2394f7b1",
   "metadata": {},
   "source": [
    "### Problem 5:\n",
    "\n",
    "## Solution:"
   ]
  },
  {
   "cell_type": "code",
   "execution_count": null,
   "id": "e85c4236",
   "metadata": {},
   "outputs": [],
   "source": []
  },
  {
   "cell_type": "markdown",
   "id": "e5d54a51",
   "metadata": {},
   "source": [
    "### Problem 6:\n",
    "\n",
    "## Solution:"
   ]
  },
  {
   "cell_type": "code",
   "execution_count": null,
   "id": "65a03bc0",
   "metadata": {},
   "outputs": [],
   "source": []
  },
  {
   "cell_type": "markdown",
   "id": "c301d489",
   "metadata": {},
   "source": [
    "### Problem 7:\n",
    "\n",
    "**Output values in a list below a user defined amount**\n",
    "\n",
    "Write a program that first gets a list of integers from input. The input begins with an integer indicating the number of integers that follows. Then, get the last value from the input, and output all integers less than or equal to that value.\n",
    "\n",
    "The 5 indicates that five integers are in the list, namely 50, 60, 140, 200, and 75. The 100 indicates that the program should output all integers less than or equal to 100, so the program outputs 50, 60, and 75.\n",
    "\n",
    "Such functionality is common on sites like Amazon, where a user can filter results. Utilizing functions will help to make your main very clean and intuitive.\n",
    "## Solution:"
   ]
  },
  {
   "cell_type": "code",
   "execution_count": 11,
   "id": "df778a91",
   "metadata": {},
   "outputs": [
    {
     "name": "stdout",
     "output_type": "stream",
     "text": [
      "Enter the value range: 5\n",
      "Enter value 1: 50\n",
      "Enter value 2: 60\n",
      "Enter value 3: 140\n",
      "Enter value 4: 75\n",
      "Enter value 5: 80\n",
      "\n",
      "Choose a threshold value: 70\n",
      "\n",
      "Output:\n",
      "50\n",
      "60\n"
     ]
    }
   ],
   "source": [
    "# Define your functions here\n",
    "def get_user_values():\n",
    "    list1 = []\n",
    "    \n",
    "    value_range = int(input('Enter the value range: '))\n",
    "    \n",
    "    for val in range(value_range):\n",
    "        val = int(input(f'Enter value {val+1}: '))\n",
    "        list1.append(val)\n",
    "    print()    \n",
    "    val_threshold = int(input('Choose a threshold value: '))\n",
    "        \n",
    "    return list1, val_threshold\n",
    "    \n",
    "def ints_less_than_or_equal_to_threshold(val, uth):\n",
    "    list2 = []\n",
    "    for i in range(len(val)):\n",
    "        if val[i] <= upper_threshold:\n",
    "            list2.append(val[i])\n",
    "    return list2\n",
    "\n",
    "if __name__ == '__main__':\n",
    "    user_values, upper_threshold = get_user_values()\n",
    "    #print(f'val:{user_values}, ut: {upper_threshold}')\n",
    "    \n",
    "    res_values = ints_less_than_or_equal_to_threshold(user_values, upper_threshold)\n",
    "    print()\n",
    "    print('Output:')\n",
    "    for value in res_values:\n",
    "        print(value)\n"
   ]
  },
  {
   "cell_type": "markdown",
   "id": "cbc4423a",
   "metadata": {},
   "source": [
    "### Problem 8:\n",
    "\n",
    "## Solution:"
   ]
  },
  {
   "cell_type": "code",
   "execution_count": null,
   "id": "1d2b0b1b",
   "metadata": {},
   "outputs": [],
   "source": []
  },
  {
   "cell_type": "markdown",
   "id": "49119a33",
   "metadata": {},
   "source": [
    "### Problem 9:\n",
    "\n",
    "## Solution:"
   ]
  },
  {
   "cell_type": "code",
   "execution_count": null,
   "id": "ebb34ef8",
   "metadata": {},
   "outputs": [],
   "source": []
  },
  {
   "cell_type": "markdown",
   "id": "75732c02",
   "metadata": {},
   "source": [
    "### Problem 10:\n",
    "\n",
    "Write a program that takes in a positive integer as input, and outputs a string of 1's and 0's representing the integer in binary.\n",
    "\n",
    "The program must define and call the following two functions. Define a function named int_to_reverse_binary() that takes an integer as a parameter and returns a string of 1's and 0's representing the integer in binary (in reverse). Define a function named string_reverse() that takes an input string as a parameter and returns a string representing the input string in reverse.\n",
    "\n",
    "## Solution:"
   ]
  },
  {
   "cell_type": "code",
   "execution_count": 15,
   "id": "852e871d",
   "metadata": {},
   "outputs": [
    {
     "name": "stdout",
     "output_type": "stream",
     "text": [
      "Enter a decimal number: 83\n",
      "The binary equivalent of 83 is 1010011\n"
     ]
    }
   ],
   "source": [
    "# Define your functions here.\n",
    "def int_to_reverse_binary(value):\n",
    "    bins = ''\n",
    "    while value > 0:\n",
    "        bin_rem = value % 2\n",
    "        bins += str(bin_rem)\n",
    "        value //= 2\n",
    "    \n",
    "    #print(bins)\n",
    "    \n",
    "    return bins\n",
    "\n",
    "def string_reverse(strn):\n",
    "    rev = ''\n",
    "    \n",
    "    strn = str(strn)\n",
    "    for i in range(len(strn)-1,-1,-1):\n",
    "        rev += strn[i]\n",
    "    \n",
    "    return rev\n",
    "\n",
    "\n",
    "if __name__ == '__main__':\n",
    "    user_val = int(input('Enter a decimal number: '))\n",
    "    x = int_to_reverse_binary(user_val)\n",
    "    \n",
    "    print(f'The binary equivalent of {user_val} is {string_reverse(x)}')\n",
    "    \n",
    "    "
   ]
  },
  {
   "cell_type": "code",
   "execution_count": null,
   "id": "651336e7",
   "metadata": {},
   "outputs": [],
   "source": []
  },
  {
   "cell_type": "code",
   "execution_count": null,
   "id": "151cd151",
   "metadata": {},
   "outputs": [],
   "source": []
  },
  {
   "cell_type": "code",
   "execution_count": null,
   "id": "31474dce",
   "metadata": {},
   "outputs": [],
   "source": []
  }
 ],
 "metadata": {
  "kernelspec": {
   "display_name": "Python 3 (ipykernel)",
   "language": "python",
   "name": "python3"
  },
  "language_info": {
   "codemirror_mode": {
    "name": "ipython",
    "version": 3
   },
   "file_extension": ".py",
   "mimetype": "text/x-python",
   "name": "python",
   "nbconvert_exporter": "python",
   "pygments_lexer": "ipython3",
   "version": "3.10.8"
  }
 },
 "nbformat": 4,
 "nbformat_minor": 5
}
