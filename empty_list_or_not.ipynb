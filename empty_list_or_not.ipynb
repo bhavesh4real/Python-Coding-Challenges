def check_list(input_list):
    if input_list == []:
        result = print('The input list is EMPTY.')
    else:
        result = print(f'The input list is NOT EMPTY and contains {input_list} elements.')
    return result

check_list([2,1])

check_list([])
